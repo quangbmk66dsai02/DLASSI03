{
 "cells": [
  {
   "cell_type": "code",
   "execution_count": 2,
   "id": "9a6837a1",
   "metadata": {},
   "outputs": [],
   "source": [
    "\n",
    "\n",
    "import os\n",
    "\n",
    "import numpy as np\n",
    "from PIL import Image\n",
    "import cv2\n",
    "\n",
    "import imageio\n",
    "import matplotlib.pyplot as plt\n",
    "\n",
    "import torch\n",
    "import torch.nn as nn\n",
    "import torch.nn.functional as F\n",
    "import torch.optim as optim\n",
    "from torch.optim import lr_scheduler\n",
    "from torch import Tensor\n",
    "from torch.utils.data import Dataset, DataLoader, random_split\n",
    "from torchvision.transforms import Resize, PILToTensor, ToPILImage, Compose, InterpolationMode\n",
    "from collections import OrderedDict\n",
    "from PIL import ImageFilter\n",
    "import torchvision.transforms as transforms\n",
    "import random\n",
    "import wandb"
   ]
  },
  {
   "cell_type": "code",
   "execution_count": 3,
   "id": "03a5ade6",
   "metadata": {},
   "outputs": [],
   "source": [
    "class encoder_block(nn.Module):\n",
    "    def __init__(self, in_channels, out_channels):\n",
    "        super(encoder_block, self).__init__()\n",
    "        \n",
    "        self.conv1 = nn.Conv2d(in_channels, out_channels, kernel_size=3, stride=1, padding='same')\n",
    "        self.conv2 = nn.Conv2d(out_channels, out_channels, kernel_size=3, stride=1, padding='same')\n",
    "        \n",
    "        self.bn1 = nn.BatchNorm2d(out_channels)\n",
    "        self.bn2 = nn.BatchNorm2d(out_channels)\n",
    "        \n",
    "        self.relu = nn.ReLU()\n",
    "        self.dropout = nn.Dropout(p=0.3)\n",
    "        self.max_pool = nn.MaxPool2d(kernel_size=2, stride=2)\n",
    "        \n",
    "    def forward(self, x):\n",
    "\n",
    "        x = self.conv1(x)\n",
    "        \n",
    "        x = self.bn1(x)\n",
    "        x = self.relu(x)\n",
    "        \n",
    "        x = self.dropout(x)\n",
    "        \n",
    "        x = self.conv2(x)\n",
    "        x = self.bn2(x)\n",
    "        x = self.relu(x)\n",
    "        \n",
    "        next_layer = self.max_pool(x)\n",
    "        skip_layer = x\n",
    "        \n",
    "        return next_layer, skip_layer"
   ]
  },
  {
   "cell_type": "code",
   "execution_count": 4,
   "id": "2c200485",
   "metadata": {},
   "outputs": [],
   "source": [
    "class decoder_block(nn.Module):\n",
    "    def __init__(self, in_channels, out_channels):\n",
    "        super(decoder_block, self).__init__()\n",
    "        \n",
    "        self.transpose_conv = nn.ConvTranspose2d(in_channels, out_channels, kernel_size=2, stride=2)\n",
    "        \n",
    "        self.conv1 = nn.Conv2d(2 * out_channels, out_channels, kernel_size=3, stride=1, padding='same')\n",
    "        self.conv2 = nn.Conv2d(out_channels, out_channels, kernel_size=3, stride=1, padding='same')\n",
    "        \n",
    "        self.bn1 = nn.BatchNorm2d(out_channels)\n",
    "        self.bn2 = nn.BatchNorm2d(out_channels)\n",
    "        \n",
    "        self.relu = nn.ReLU() \n",
    "        self.dropout = nn.Dropout(p=0.3)\n",
    "    \n",
    "    def forward(self, x, skip_layer):\n",
    "        x = self.transpose_conv(x)\n",
    "        x = torch.cat([x, skip_layer], axis=1)\n",
    "        \n",
    "        x = self.conv1(x)\n",
    "        x = self.bn1(x)\n",
    "        x = self.relu(x)\n",
    "        \n",
    "        x = self.dropout(x)\n",
    "        \n",
    "        x = self.conv2(x)\n",
    "        x = self.bn2(x)\n",
    "        x = self.relu(x)\n",
    "        \n",
    "        return x"
   ]
  },
  {
   "cell_type": "code",
   "execution_count": 5,
   "id": "a24ce936",
   "metadata": {},
   "outputs": [],
   "source": [
    "class bottleneck_block(nn.Module):\n",
    "    def __init__(self, in_channels, out_channels):\n",
    "        super(bottleneck_block, self).__init__()\n",
    "        \n",
    "        self.conv1 = nn.Conv2d(in_channels, out_channels, kernel_size=3, stride=1, padding='same')\n",
    "        self.conv2 = nn.Conv2d(out_channels, out_channels, kernel_size=3, stride=1, padding='same')\n",
    "        \n",
    "        self.bn1 = nn.BatchNorm2d(out_channels)\n",
    "        self.bn2 = nn.BatchNorm2d(out_channels)\n",
    "        \n",
    "        self.relu = nn.ReLU()\n",
    "        self.dropout = nn.Dropout(p=0.3)\n",
    "        \n",
    "    def forward(self, x):\n",
    "        x = self.conv1(x)\n",
    "        x = self.bn1(x)\n",
    "        x = self.relu(x)\n",
    "        \n",
    "        x = self.dropout(x)\n",
    "        \n",
    "        x = self.conv2(x)\n",
    "        x = self.bn2(x)\n",
    "        x = self.relu(x)\n",
    "        \n",
    "        return x"
   ]
  },
  {
   "cell_type": "code",
   "execution_count": 6,
   "id": "f3889404",
   "metadata": {},
   "outputs": [],
   "source": [
    "# UNet model\n",
    "class UNet(nn.Module):\n",
    "    def __init__(self, n_class=3):\n",
    "        super(UNet, self).__init__()\n",
    "        # Encoder blocks\n",
    "        self.enc1 = encoder_block(3, 64)\n",
    "        self.enc2 = encoder_block(64, 128)\n",
    "        self.enc3 = encoder_block(128, 256)\n",
    "        self.enc4 = encoder_block(256, 512)\n",
    "        \n",
    "        # Bottleneck block\n",
    "        self.bottleneck = bottleneck_block(512, 1024)\n",
    "        \n",
    "        # Decoder blocks\n",
    "        self.dec1 = decoder_block(1024, 512)\n",
    "        self.dec2 = decoder_block(512, 256)\n",
    "        self.dec3 = decoder_block(256, 128)\n",
    "        self.dec4 = decoder_block(128, 64)\n",
    "        \n",
    "        # 1x1 convolution\n",
    "        self.out = nn.Conv2d(64, n_class, kernel_size=1, padding='same')\n",
    "        \n",
    "    def forward(self, image):\n",
    "        n1, s1 = self.enc1(image)\n",
    "        n2, s2 = self.enc2(n1)\n",
    "        n3, s3 = self.enc3(n2)\n",
    "        n4, s4 = self.enc4(n3)\n",
    "        \n",
    "        n5 = self.bottleneck(n4)\n",
    "        \n",
    "        n6 = self.dec1(n5, s4)\n",
    "        n7 = self.dec2(n6, s3)\n",
    "        n8 = self.dec3(n7, s2)\n",
    "        n9 = self.dec4(n8, s1)\n",
    "        \n",
    "        output = self.out(n9)\n",
    "        \n",
    "        return output"
   ]
  },
  {
   "cell_type": "code",
   "execution_count": 7,
   "id": "f9d171fa",
   "metadata": {},
   "outputs": [],
   "source": [
    "def save_model(model, optimizer, path):\n",
    "    checkpoint = {\n",
    "        \"model\": model.state_dict(),\n",
    "        \"optimizer\": optimizer.state_dict(),\n",
    "    }\n",
    "    torch.save(checkpoint, path)\n",
    "\n",
    "def load_model(model, optimizer, path):\n",
    "    checkpoint = torch.load(path)\n",
    "    model.load_state_dict(checkpoint[\"model\"])\n",
    "    optimizer.load_state_dict(checkpoint['optimizer'])\n",
    "    return model, optimizer"
   ]
  },
  {
   "cell_type": "code",
   "execution_count": 8,
   "id": "5930a1f3",
   "metadata": {},
   "outputs": [
    {
     "data": {
      "text/plain": [
       "device(type='cpu')"
      ]
     },
     "execution_count": 8,
     "metadata": {},
     "output_type": "execute_result"
    }
   ],
   "source": [
    "device = torch.device(\"cuda\" if torch.cuda.is_available() else \"cpu\")\n",
    "device"
   ]
  },
  {
   "cell_type": "code",
   "execution_count": 9,
   "id": "7f2b22bf",
   "metadata": {},
   "outputs": [],
   "source": [
    "model = UNet()"
   ]
  },
  {
   "cell_type": "code",
   "execution_count": 10,
   "id": "b8ee2888",
   "metadata": {},
   "outputs": [
    {
     "data": {
      "text/plain": [
       "DataParallel(\n",
       "  (module): UNet(\n",
       "    (enc1): encoder_block(\n",
       "      (conv1): Conv2d(3, 64, kernel_size=(3, 3), stride=(1, 1), padding=same)\n",
       "      (conv2): Conv2d(64, 64, kernel_size=(3, 3), stride=(1, 1), padding=same)\n",
       "      (bn1): BatchNorm2d(64, eps=1e-05, momentum=0.1, affine=True, track_running_stats=True)\n",
       "      (bn2): BatchNorm2d(64, eps=1e-05, momentum=0.1, affine=True, track_running_stats=True)\n",
       "      (relu): ReLU()\n",
       "      (dropout): Dropout(p=0.3, inplace=False)\n",
       "      (max_pool): MaxPool2d(kernel_size=2, stride=2, padding=0, dilation=1, ceil_mode=False)\n",
       "    )\n",
       "    (enc2): encoder_block(\n",
       "      (conv1): Conv2d(64, 128, kernel_size=(3, 3), stride=(1, 1), padding=same)\n",
       "      (conv2): Conv2d(128, 128, kernel_size=(3, 3), stride=(1, 1), padding=same)\n",
       "      (bn1): BatchNorm2d(128, eps=1e-05, momentum=0.1, affine=True, track_running_stats=True)\n",
       "      (bn2): BatchNorm2d(128, eps=1e-05, momentum=0.1, affine=True, track_running_stats=True)\n",
       "      (relu): ReLU()\n",
       "      (dropout): Dropout(p=0.3, inplace=False)\n",
       "      (max_pool): MaxPool2d(kernel_size=2, stride=2, padding=0, dilation=1, ceil_mode=False)\n",
       "    )\n",
       "    (enc3): encoder_block(\n",
       "      (conv1): Conv2d(128, 256, kernel_size=(3, 3), stride=(1, 1), padding=same)\n",
       "      (conv2): Conv2d(256, 256, kernel_size=(3, 3), stride=(1, 1), padding=same)\n",
       "      (bn1): BatchNorm2d(256, eps=1e-05, momentum=0.1, affine=True, track_running_stats=True)\n",
       "      (bn2): BatchNorm2d(256, eps=1e-05, momentum=0.1, affine=True, track_running_stats=True)\n",
       "      (relu): ReLU()\n",
       "      (dropout): Dropout(p=0.3, inplace=False)\n",
       "      (max_pool): MaxPool2d(kernel_size=2, stride=2, padding=0, dilation=1, ceil_mode=False)\n",
       "    )\n",
       "    (enc4): encoder_block(\n",
       "      (conv1): Conv2d(256, 512, kernel_size=(3, 3), stride=(1, 1), padding=same)\n",
       "      (conv2): Conv2d(512, 512, kernel_size=(3, 3), stride=(1, 1), padding=same)\n",
       "      (bn1): BatchNorm2d(512, eps=1e-05, momentum=0.1, affine=True, track_running_stats=True)\n",
       "      (bn2): BatchNorm2d(512, eps=1e-05, momentum=0.1, affine=True, track_running_stats=True)\n",
       "      (relu): ReLU()\n",
       "      (dropout): Dropout(p=0.3, inplace=False)\n",
       "      (max_pool): MaxPool2d(kernel_size=2, stride=2, padding=0, dilation=1, ceil_mode=False)\n",
       "    )\n",
       "    (bottleneck): bottleneck_block(\n",
       "      (conv1): Conv2d(512, 1024, kernel_size=(3, 3), stride=(1, 1), padding=same)\n",
       "      (conv2): Conv2d(1024, 1024, kernel_size=(3, 3), stride=(1, 1), padding=same)\n",
       "      (bn1): BatchNorm2d(1024, eps=1e-05, momentum=0.1, affine=True, track_running_stats=True)\n",
       "      (bn2): BatchNorm2d(1024, eps=1e-05, momentum=0.1, affine=True, track_running_stats=True)\n",
       "      (relu): ReLU()\n",
       "      (dropout): Dropout(p=0.3, inplace=False)\n",
       "    )\n",
       "    (dec1): decoder_block(\n",
       "      (transpose_conv): ConvTranspose2d(1024, 512, kernel_size=(2, 2), stride=(2, 2))\n",
       "      (conv1): Conv2d(1024, 512, kernel_size=(3, 3), stride=(1, 1), padding=same)\n",
       "      (conv2): Conv2d(512, 512, kernel_size=(3, 3), stride=(1, 1), padding=same)\n",
       "      (bn1): BatchNorm2d(512, eps=1e-05, momentum=0.1, affine=True, track_running_stats=True)\n",
       "      (bn2): BatchNorm2d(512, eps=1e-05, momentum=0.1, affine=True, track_running_stats=True)\n",
       "      (relu): ReLU()\n",
       "      (dropout): Dropout(p=0.3, inplace=False)\n",
       "    )\n",
       "    (dec2): decoder_block(\n",
       "      (transpose_conv): ConvTranspose2d(512, 256, kernel_size=(2, 2), stride=(2, 2))\n",
       "      (conv1): Conv2d(512, 256, kernel_size=(3, 3), stride=(1, 1), padding=same)\n",
       "      (conv2): Conv2d(256, 256, kernel_size=(3, 3), stride=(1, 1), padding=same)\n",
       "      (bn1): BatchNorm2d(256, eps=1e-05, momentum=0.1, affine=True, track_running_stats=True)\n",
       "      (bn2): BatchNorm2d(256, eps=1e-05, momentum=0.1, affine=True, track_running_stats=True)\n",
       "      (relu): ReLU()\n",
       "      (dropout): Dropout(p=0.3, inplace=False)\n",
       "    )\n",
       "    (dec3): decoder_block(\n",
       "      (transpose_conv): ConvTranspose2d(256, 128, kernel_size=(2, 2), stride=(2, 2))\n",
       "      (conv1): Conv2d(256, 128, kernel_size=(3, 3), stride=(1, 1), padding=same)\n",
       "      (conv2): Conv2d(128, 128, kernel_size=(3, 3), stride=(1, 1), padding=same)\n",
       "      (bn1): BatchNorm2d(128, eps=1e-05, momentum=0.1, affine=True, track_running_stats=True)\n",
       "      (bn2): BatchNorm2d(128, eps=1e-05, momentum=0.1, affine=True, track_running_stats=True)\n",
       "      (relu): ReLU()\n",
       "      (dropout): Dropout(p=0.3, inplace=False)\n",
       "    )\n",
       "    (dec4): decoder_block(\n",
       "      (transpose_conv): ConvTranspose2d(128, 64, kernel_size=(2, 2), stride=(2, 2))\n",
       "      (conv1): Conv2d(128, 64, kernel_size=(3, 3), stride=(1, 1), padding=same)\n",
       "      (conv2): Conv2d(64, 64, kernel_size=(3, 3), stride=(1, 1), padding=same)\n",
       "      (bn1): BatchNorm2d(64, eps=1e-05, momentum=0.1, affine=True, track_running_stats=True)\n",
       "      (bn2): BatchNorm2d(64, eps=1e-05, momentum=0.1, affine=True, track_running_stats=True)\n",
       "      (relu): ReLU()\n",
       "      (dropout): Dropout(p=0.3, inplace=False)\n",
       "    )\n",
       "    (out): Conv2d(64, 3, kernel_size=(1, 1), stride=(1, 1), padding=same)\n",
       "  )\n",
       ")"
      ]
     },
     "execution_count": 10,
     "metadata": {},
     "output_type": "execute_result"
    }
   ],
   "source": [
    "model = nn.DataParallel(model)\n",
    "model.to(device)"
   ]
  },
  {
   "cell_type": "code",
   "execution_count": 11,
   "id": "21a8d8c2",
   "metadata": {},
   "outputs": [
    {
     "name": "stdout",
     "output_type": "stream",
     "text": [
      "model\n",
      "optimizer\n"
     ]
    },
    {
     "data": {
      "text/plain": [
       "<All keys matched successfully>"
      ]
     },
     "execution_count": 11,
     "metadata": {},
     "output_type": "execute_result"
    }
   ],
   "source": [
    "path_to_weights = 'unet_model.pth'\n",
    "\n",
    "# Load the weights into your model\n",
    "for key in torch.load(path_to_weights, map_location=torch.device('cpu')).keys():\n",
    "    print(key)\n",
    "model.load_state_dict(torch.load(path_to_weights, map_location=torch.device('cpu'))['model'])"
   ]
  },
  {
   "cell_type": "code",
   "execution_count": 12,
   "id": "86cd0a3f",
   "metadata": {},
   "outputs": [],
   "source": [
    "transform = transforms.Compose([\n",
    "    transforms.Resize((224, 224)),  # Resize to match your model's input size\n",
    "    transforms.ToTensor(),          # Convert image to tensor\n",
    "\n",
    "])"
   ]
  },
  {
   "cell_type": "code",
   "execution_count": 19,
   "id": "0811b22e",
   "metadata": {},
   "outputs": [
    {
     "name": "stdout",
     "output_type": "stream",
     "text": [
      "<class 'torch.Tensor'>\n",
      "torch.Size([3, 224, 224])\n",
      "<class 'torch.Tensor'>\n",
      "torch.Size([3, 224, 224])\n",
      "<class 'torch.Tensor'>\n",
      "torch.Size([3, 224, 224])\n",
      "<class 'torch.Tensor'>\n",
      "torch.Size([3, 224, 224])\n",
      "<class 'torch.Tensor'>\n",
      "torch.Size([3, 224, 224])\n",
      "<class 'torch.Tensor'>\n",
      "torch.Size([3, 224, 224])\n"
     ]
    }
   ],
   "source": [
    "import os\n",
    "import torch\n",
    "from torchvision import transforms\n",
    "from PIL import Image\n",
    "\n",
    "# Load your model\n",
    "# model = ...  # Load your model here\n",
    "\n",
    "# Define your transformation for inference\n",
    "transform = transforms.Compose([\n",
    "    transforms.Resize((224, 224)),  # Resize to match your model's input size\n",
    "    transforms.ToTensor(),          # Convert image to tensor\n",
    "\n",
    "])\n",
    "\n",
    "# Folder containing images\n",
    "images_folder = 'Images/'\n",
    "\n",
    "# List all image files in the folder\n",
    "image_files = os.listdir(images_folder)\n",
    "original_img = []\n",
    "output_img = []\n",
    "# Perform inference on each image\n",
    "for img_file in image_files:\n",
    "    # Load image\n",
    "    img_path = os.path.join(images_folder, img_file)\n",
    "    img = Image.open(img_path)\n",
    "    \n",
    "    # Apply transformations\n",
    "    img = transform(img)\n",
    "    \n",
    "    # Add batch dimension\n",
    "    img = img.unsqueeze(0)  # Assuming your model expects a batch dimension\n",
    "    \n",
    "    # Put the model in evaluation mode\n",
    "    model.eval()\n",
    "    \n",
    "    # Perform inference\n",
    "    with torch.no_grad():\n",
    "        output = model(img)\n",
    "    img = img.squeeze(0)\n",
    "    output = output.squeeze(0)\n",
    "    print(type(img))\n",
    "    print(img.shape)\n",
    "    rgb_image = img.cpu().detach().numpy().transpose(1, 2, 0)\n",
    "    rgb_result = output.cpu().detach().numpy().transpose(1, 2, 0)\n",
    "    original_img.append(rgb_image)\n",
    "    output_img.append(rgb_result)\n"
   ]
  },
  {
   "cell_type": "code",
   "execution_count": 1,
   "id": "7ea71e34",
   "metadata": {},
   "outputs": [
    {
     "name": "stdout",
     "output_type": "stream",
     "text": [
      "Requirement already satisfied: plotly in c:\\users\\herew\\anaconda3\\lib\\site-packages (5.9.0)\n",
      "Requirement already satisfied: tenacity>=6.2.0 in c:\\users\\herew\\anaconda3\\lib\\site-packages (from plotly) (8.2.2)\n"
     ]
    }
   ],
   "source": [
    "!pip install plotly"
   ]
  },
  {
   "cell_type": "code",
   "execution_count": 22,
   "id": "d618c63b",
   "metadata": {},
   "outputs": [
    {
     "data": {
      "application/vnd.plotly.v1+json": {
       "config": {
        "plotlyServerURL": "https://plot.ly"
       },
       "data": [
        {
         "hovertemplate": "x: %{x}<br>y: %{y}<extra></extra>",
         "name": "0",
         "source": "data:image/png;base64,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",
         "type": "image",
         "xaxis": "x",
         "yaxis": "y"
        }
       ],
       "layout": {
        "coloraxis": {
         "showscale": false
        },
        "margin": {
         "t": 60
        },
        "template": {
         "data": {
          "bar": [
           {
            "error_x": {
             "color": "#2a3f5f"
            },
            "error_y": {
             "color": "#2a3f5f"
            },
            "marker": {
             "line": {
              "color": "#E5ECF6",
              "width": 0.5
             },
             "pattern": {
              "fillmode": "overlay",
              "size": 10,
              "solidity": 0.2
             }
            },
            "type": "bar"
           }
          ],
          "barpolar": [
           {
            "marker": {
             "line": {
              "color": "#E5ECF6",
              "width": 0.5
             },
             "pattern": {
              "fillmode": "overlay",
              "size": 10,
              "solidity": 0.2
             }
            },
            "type": "barpolar"
           }
          ],
          "carpet": [
           {
            "aaxis": {
             "endlinecolor": "#2a3f5f",
             "gridcolor": "white",
             "linecolor": "white",
             "minorgridcolor": "white",
             "startlinecolor": "#2a3f5f"
            },
            "baxis": {
             "endlinecolor": "#2a3f5f",
             "gridcolor": "white",
             "linecolor": "white",
             "minorgridcolor": "white",
             "startlinecolor": "#2a3f5f"
            },
            "type": "carpet"
           }
          ],
          "choropleth": [
           {
            "colorbar": {
             "outlinewidth": 0,
             "ticks": ""
            },
            "type": "choropleth"
           }
          ],
          "contour": [
           {
            "colorbar": {
             "outlinewidth": 0,
             "ticks": ""
            },
            "colorscale": [
             [
              0,
              "#0d0887"
             ],
             [
              0.1111111111111111,
              "#46039f"
             ],
             [
              0.2222222222222222,
              "#7201a8"
             ],
             [
              0.3333333333333333,
              "#9c179e"
             ],
             [
              0.4444444444444444,
              "#bd3786"
             ],
             [
              0.5555555555555556,
              "#d8576b"
             ],
             [
              0.6666666666666666,
              "#ed7953"
             ],
             [
              0.7777777777777778,
              "#fb9f3a"
             ],
             [
              0.8888888888888888,
              "#fdca26"
             ],
             [
              1,
              "#f0f921"
             ]
            ],
            "type": "contour"
           }
          ],
          "contourcarpet": [
           {
            "colorbar": {
             "outlinewidth": 0,
             "ticks": ""
            },
            "type": "contourcarpet"
           }
          ],
          "heatmap": [
           {
            "colorbar": {
             "outlinewidth": 0,
             "ticks": ""
            },
            "colorscale": [
             [
              0,
              "#0d0887"
             ],
             [
              0.1111111111111111,
              "#46039f"
             ],
             [
              0.2222222222222222,
              "#7201a8"
             ],
             [
              0.3333333333333333,
              "#9c179e"
             ],
             [
              0.4444444444444444,
              "#bd3786"
             ],
             [
              0.5555555555555556,
              "#d8576b"
             ],
             [
              0.6666666666666666,
              "#ed7953"
             ],
             [
              0.7777777777777778,
              "#fb9f3a"
             ],
             [
              0.8888888888888888,
              "#fdca26"
             ],
             [
              1,
              "#f0f921"
             ]
            ],
            "type": "heatmap"
           }
          ],
          "heatmapgl": [
           {
            "colorbar": {
             "outlinewidth": 0,
             "ticks": ""
            },
            "colorscale": [
             [
              0,
              "#0d0887"
             ],
             [
              0.1111111111111111,
              "#46039f"
             ],
             [
              0.2222222222222222,
              "#7201a8"
             ],
             [
              0.3333333333333333,
              "#9c179e"
             ],
             [
              0.4444444444444444,
              "#bd3786"
             ],
             [
              0.5555555555555556,
              "#d8576b"
             ],
             [
              0.6666666666666666,
              "#ed7953"
             ],
             [
              0.7777777777777778,
              "#fb9f3a"
             ],
             [
              0.8888888888888888,
              "#fdca26"
             ],
             [
              1,
              "#f0f921"
             ]
            ],
            "type": "heatmapgl"
           }
          ],
          "histogram": [
           {
            "marker": {
             "pattern": {
              "fillmode": "overlay",
              "size": 10,
              "solidity": 0.2
             }
            },
            "type": "histogram"
           }
          ],
          "histogram2d": [
           {
            "colorbar": {
             "outlinewidth": 0,
             "ticks": ""
            },
            "colorscale": [
             [
              0,
              "#0d0887"
             ],
             [
              0.1111111111111111,
              "#46039f"
             ],
             [
              0.2222222222222222,
              "#7201a8"
             ],
             [
              0.3333333333333333,
              "#9c179e"
             ],
             [
              0.4444444444444444,
              "#bd3786"
             ],
             [
              0.5555555555555556,
              "#d8576b"
             ],
             [
              0.6666666666666666,
              "#ed7953"
             ],
             [
              0.7777777777777778,
              "#fb9f3a"
             ],
             [
              0.8888888888888888,
              "#fdca26"
             ],
             [
              1,
              "#f0f921"
             ]
            ],
            "type": "histogram2d"
           }
          ],
          "histogram2dcontour": [
           {
            "colorbar": {
             "outlinewidth": 0,
             "ticks": ""
            },
            "colorscale": [
             [
              0,
              "#0d0887"
             ],
             [
              0.1111111111111111,
              "#46039f"
             ],
             [
              0.2222222222222222,
              "#7201a8"
             ],
             [
              0.3333333333333333,
              "#9c179e"
             ],
             [
              0.4444444444444444,
              "#bd3786"
             ],
             [
              0.5555555555555556,
              "#d8576b"
             ],
             [
              0.6666666666666666,
              "#ed7953"
             ],
             [
              0.7777777777777778,
              "#fb9f3a"
             ],
             [
              0.8888888888888888,
              "#fdca26"
             ],
             [
              1,
              "#f0f921"
             ]
            ],
            "type": "histogram2dcontour"
           }
          ],
          "mesh3d": [
           {
            "colorbar": {
             "outlinewidth": 0,
             "ticks": ""
            },
            "type": "mesh3d"
           }
          ],
          "parcoords": [
           {
            "line": {
             "colorbar": {
              "outlinewidth": 0,
              "ticks": ""
             }
            },
            "type": "parcoords"
           }
          ],
          "pie": [
           {
            "automargin": true,
            "type": "pie"
           }
          ],
          "scatter": [
           {
            "fillpattern": {
             "fillmode": "overlay",
             "size": 10,
             "solidity": 0.2
            },
            "type": "scatter"
           }
          ],
          "scatter3d": [
           {
            "line": {
             "colorbar": {
              "outlinewidth": 0,
              "ticks": ""
             }
            },
            "marker": {
             "colorbar": {
              "outlinewidth": 0,
              "ticks": ""
             }
            },
            "type": "scatter3d"
           }
          ],
          "scattercarpet": [
           {
            "marker": {
             "colorbar": {
              "outlinewidth": 0,
              "ticks": ""
             }
            },
            "type": "scattercarpet"
           }
          ],
          "scattergeo": [
           {
            "marker": {
             "colorbar": {
              "outlinewidth": 0,
              "ticks": ""
             }
            },
            "type": "scattergeo"
           }
          ],
          "scattergl": [
           {
            "marker": {
             "colorbar": {
              "outlinewidth": 0,
              "ticks": ""
             }
            },
            "type": "scattergl"
           }
          ],
          "scattermapbox": [
           {
            "marker": {
             "colorbar": {
              "outlinewidth": 0,
              "ticks": ""
             }
            },
            "type": "scattermapbox"
           }
          ],
          "scatterpolar": [
           {
            "marker": {
             "colorbar": {
              "outlinewidth": 0,
              "ticks": ""
             }
            },
            "type": "scatterpolar"
           }
          ],
          "scatterpolargl": [
           {
            "marker": {
             "colorbar": {
              "outlinewidth": 0,
              "ticks": ""
             }
            },
            "type": "scatterpolargl"
           }
          ],
          "scatterternary": [
           {
            "marker": {
             "colorbar": {
              "outlinewidth": 0,
              "ticks": ""
             }
            },
            "type": "scatterternary"
           }
          ],
          "surface": [
           {
            "colorbar": {
             "outlinewidth": 0,
             "ticks": ""
            },
            "colorscale": [
             [
              0,
              "#0d0887"
             ],
             [
              0.1111111111111111,
              "#46039f"
             ],
             [
              0.2222222222222222,
              "#7201a8"
             ],
             [
              0.3333333333333333,
              "#9c179e"
             ],
             [
              0.4444444444444444,
              "#bd3786"
             ],
             [
              0.5555555555555556,
              "#d8576b"
             ],
             [
              0.6666666666666666,
              "#ed7953"
             ],
             [
              0.7777777777777778,
              "#fb9f3a"
             ],
             [
              0.8888888888888888,
              "#fdca26"
             ],
             [
              1,
              "#f0f921"
             ]
            ],
            "type": "surface"
           }
          ],
          "table": [
           {
            "cells": {
             "fill": {
              "color": "#EBF0F8"
             },
             "line": {
              "color": "white"
             }
            },
            "header": {
             "fill": {
              "color": "#C8D4E3"
             },
             "line": {
              "color": "white"
             }
            },
            "type": "table"
           }
          ]
         },
         "layout": {
          "annotationdefaults": {
           "arrowcolor": "#2a3f5f",
           "arrowhead": 0,
           "arrowwidth": 1
          },
          "autotypenumbers": "strict",
          "coloraxis": {
           "colorbar": {
            "outlinewidth": 0,
            "ticks": ""
           }
          },
          "colorscale": {
           "diverging": [
            [
             0,
             "#8e0152"
            ],
            [
             0.1,
             "#c51b7d"
            ],
            [
             0.2,
             "#de77ae"
            ],
            [
             0.3,
             "#f1b6da"
            ],
            [
             0.4,
             "#fde0ef"
            ],
            [
             0.5,
             "#f7f7f7"
            ],
            [
             0.6,
             "#e6f5d0"
            ],
            [
             0.7,
             "#b8e186"
            ],
            [
             0.8,
             "#7fbc41"
            ],
            [
             0.9,
             "#4d9221"
            ],
            [
             1,
             "#276419"
            ]
           ],
           "sequential": [
            [
             0,
             "#0d0887"
            ],
            [
             0.1111111111111111,
             "#46039f"
            ],
            [
             0.2222222222222222,
             "#7201a8"
            ],
            [
             0.3333333333333333,
             "#9c179e"
            ],
            [
             0.4444444444444444,
             "#bd3786"
            ],
            [
             0.5555555555555556,
             "#d8576b"
            ],
            [
             0.6666666666666666,
             "#ed7953"
            ],
            [
             0.7777777777777778,
             "#fb9f3a"
            ],
            [
             0.8888888888888888,
             "#fdca26"
            ],
            [
             1,
             "#f0f921"
            ]
           ],
           "sequentialminus": [
            [
             0,
             "#0d0887"
            ],
            [
             0.1111111111111111,
             "#46039f"
            ],
            [
             0.2222222222222222,
             "#7201a8"
            ],
            [
             0.3333333333333333,
             "#9c179e"
            ],
            [
             0.4444444444444444,
             "#bd3786"
            ],
            [
             0.5555555555555556,
             "#d8576b"
            ],
            [
             0.6666666666666666,
             "#ed7953"
            ],
            [
             0.7777777777777778,
             "#fb9f3a"
            ],
            [
             0.8888888888888888,
             "#fdca26"
            ],
            [
             1,
             "#f0f921"
            ]
           ]
          },
          "colorway": [
           "#636efa",
           "#EF553B",
           "#00cc96",
           "#ab63fa",
           "#FFA15A",
           "#19d3f3",
           "#FF6692",
           "#B6E880",
           "#FF97FF",
           "#FECB52"
          ],
          "font": {
           "color": "#2a3f5f"
          },
          "geo": {
           "bgcolor": "white",
           "lakecolor": "white",
           "landcolor": "#E5ECF6",
           "showlakes": true,
           "showland": true,
           "subunitcolor": "white"
          },
          "hoverlabel": {
           "align": "left"
          },
          "hovermode": "closest",
          "mapbox": {
           "style": "light"
          },
          "paper_bgcolor": "white",
          "plot_bgcolor": "#E5ECF6",
          "polar": {
           "angularaxis": {
            "gridcolor": "white",
            "linecolor": "white",
            "ticks": ""
           },
           "bgcolor": "#E5ECF6",
           "radialaxis": {
            "gridcolor": "white",
            "linecolor": "white",
            "ticks": ""
           }
          },
          "scene": {
           "xaxis": {
            "backgroundcolor": "#E5ECF6",
            "gridcolor": "white",
            "gridwidth": 2,
            "linecolor": "white",
            "showbackground": true,
            "ticks": "",
            "zerolinecolor": "white"
           },
           "yaxis": {
            "backgroundcolor": "#E5ECF6",
            "gridcolor": "white",
            "gridwidth": 2,
            "linecolor": "white",
            "showbackground": true,
            "ticks": "",
            "zerolinecolor": "white"
           },
           "zaxis": {
            "backgroundcolor": "#E5ECF6",
            "gridcolor": "white",
            "gridwidth": 2,
            "linecolor": "white",
            "showbackground": true,
            "ticks": "",
            "zerolinecolor": "white"
           }
          },
          "shapedefaults": {
           "line": {
            "color": "#2a3f5f"
           }
          },
          "ternary": {
           "aaxis": {
            "gridcolor": "white",
            "linecolor": "white",
            "ticks": ""
           },
           "baxis": {
            "gridcolor": "white",
            "linecolor": "white",
            "ticks": ""
           },
           "bgcolor": "#E5ECF6",
           "caxis": {
            "gridcolor": "white",
            "linecolor": "white",
            "ticks": ""
           }
          },
          "title": {
           "x": 0.05
          },
          "xaxis": {
           "automargin": true,
           "gridcolor": "white",
           "linecolor": "white",
           "ticks": "",
           "title": {
            "standoff": 15
           },
           "zerolinecolor": "white",
           "zerolinewidth": 2
          },
          "yaxis": {
           "automargin": true,
           "gridcolor": "white",
           "linecolor": "white",
           "ticks": "",
           "title": {
            "standoff": 15
           },
           "zerolinecolor": "white",
           "zerolinewidth": 2
          }
         }
        },
        "xaxis": {
         "anchor": "y",
         "domain": [
          0,
          1
         ]
        },
        "yaxis": {
         "anchor": "x",
         "domain": [
          0,
          1
         ]
        }
       }
      },
      "text/html": [
       "<div>                            <div id=\"810310be-e501-422d-9a75-070116d382f3\" class=\"plotly-graph-div\" style=\"height:525px; width:100%;\"></div>            <script type=\"text/javascript\">                require([\"plotly\"], function(Plotly) {                    window.PLOTLYENV=window.PLOTLYENV || {};                                    if (document.getElementById(\"810310be-e501-422d-9a75-070116d382f3\")) {                    Plotly.newPlot(                        \"810310be-e501-422d-9a75-070116d382f3\",                        [{\"name\":\"0\",\"source\":\"data:image/png;base64,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\",\"type\":\"image\",\"xaxis\":\"x\",\"yaxis\":\"y\",\"hovertemplate\":\"x: %{x}<br>y: %{y}<extra></extra>\"}],                        {\"template\":{\"data\":{\"histogram2dcontour\":[{\"type\":\"histogram2dcontour\",\"colorbar\":{\"outlinewidth\":0,\"ticks\":\"\"},\"colorscale\":[[0.0,\"#0d0887\"],[0.1111111111111111,\"#46039f\"],[0.2222222222222222,\"#7201a8\"],[0.3333333333333333,\"#9c179e\"],[0.4444444444444444,\"#bd3786\"],[0.5555555555555556,\"#d8576b\"],[0.6666666666666666,\"#ed7953\"],[0.7777777777777778,\"#fb9f3a\"],[0.8888888888888888,\"#fdca26\"],[1.0,\"#f0f921\"]]}],\"choropleth\":[{\"type\":\"choropleth\",\"colorbar\":{\"outlinewidth\":0,\"ticks\":\"\"}}],\"histogram2d\":[{\"type\":\"histogram2d\",\"colorbar\":{\"outlinewidth\":0,\"ticks\":\"\"},\"colorscale\":[[0.0,\"#0d0887\"],[0.1111111111111111,\"#46039f\"],[0.2222222222222222,\"#7201a8\"],[0.3333333333333333,\"#9c179e\"],[0.4444444444444444,\"#bd3786\"],[0.5555555555555556,\"#d8576b\"],[0.6666666666666666,\"#ed7953\"],[0.7777777777777778,\"#fb9f3a\"],[0.8888888888888888,\"#fdca26\"],[1.0,\"#f0f921\"]]}],\"heatmap\":[{\"type\":\"heatmap\",\"colorbar\":{\"outlinewidth\":0,\"ticks\":\"\"},\"colorscale\":[[0.0,\"#0d0887\"],[0.1111111111111111,\"#46039f\"],[0.2222222222222222,\"#7201a8\"],[0.3333333333333333,\"#9c179e\"],[0.4444444444444444,\"#bd3786\"],[0.5555555555555556,\"#d8576b\"],[0.6666666666666666,\"#ed7953\"],[0.7777777777777778,\"#fb9f3a\"],[0.8888888888888888,\"#fdca26\"],[1.0,\"#f0f921\"]]}],\"heatmapgl\":[{\"type\":\"heatmapgl\",\"colorbar\":{\"outlinewidth\":0,\"ticks\":\"\"},\"colorscale\":[[0.0,\"#0d0887\"],[0.1111111111111111,\"#46039f\"],[0.2222222222222222,\"#7201a8\"],[0.3333333333333333,\"#9c179e\"],[0.4444444444444444,\"#bd3786\"],[0.5555555555555556,\"#d8576b\"],[0.6666666666666666,\"#ed7953\"],[0.7777777777777778,\"#fb9f3a\"],[0.8888888888888888,\"#fdca26\"],[1.0,\"#f0f921\"]]}],\"contourcarpet\":[{\"type\":\"contourcarpet\",\"colorbar\":{\"outlinewidth\":0,\"ticks\":\"\"}}],\"contour\":[{\"type\":\"contour\",\"colorbar\":{\"outlinewidth\":0,\"ticks\":\"\"},\"colorscale\":[[0.0,\"#0d0887\"],[0.1111111111111111,\"#46039f\"],[0.2222222222222222,\"#7201a8\"],[0.3333333333333333,\"#9c179e\"],[0.4444444444444444,\"#bd3786\"],[0.5555555555555556,\"#d8576b\"],[0.6666666666666666,\"#ed7953\"],[0.7777777777777778,\"#fb9f3a\"],[0.8888888888888888,\"#fdca26\"],[1.0,\"#f0f921\"]]}],\"surface\":[{\"type\":\"surface\",\"colorbar\":{\"outlinewidth\":0,\"ticks\":\"\"},\"colorscale\":[[0.0,\"#0d0887\"],[0.1111111111111111,\"#46039f\"],[0.2222222222222222,\"#7201a8\"],[0.3333333333333333,\"#9c179e\"],[0.4444444444444444,\"#bd3786\"],[0.5555555555555556,\"#d8576b\"],[0.6666666666666666,\"#ed7953\"],[0.7777777777777778,\"#fb9f3a\"],[0.8888888888888888,\"#fdca26\"],[1.0,\"#f0f921\"]]}],\"mesh3d\":[{\"type\":\"mesh3d\",\"colorbar\":{\"outlinewidth\":0,\"ticks\":\"\"}}],\"scatter\":[{\"fillpattern\":{\"fillmode\":\"overlay\",\"size\":10,\"solidity\":0.2},\"type\":\"scatter\"}],\"parcoords\":[{\"type\":\"parcoords\",\"line\":{\"colorbar\":{\"outlinewidth\":0,\"ticks\":\"\"}}}],\"scatterpolargl\":[{\"type\":\"scatterpolargl\",\"marker\":{\"colorbar\":{\"outlinewidth\":0,\"ticks\":\"\"}}}],\"bar\":[{\"error_x\":{\"color\":\"#2a3f5f\"},\"error_y\":{\"color\":\"#2a3f5f\"},\"marker\":{\"line\":{\"color\":\"#E5ECF6\",\"width\":0.5},\"pattern\":{\"fillmode\":\"overlay\",\"size\":10,\"solidity\":0.2}},\"type\":\"bar\"}],\"scattergeo\":[{\"type\":\"scattergeo\",\"marker\":{\"colorbar\":{\"outlinewidth\":0,\"ticks\":\"\"}}}],\"scatterpolar\":[{\"type\":\"scatterpolar\",\"marker\":{\"colorbar\":{\"outlinewidth\":0,\"ticks\":\"\"}}}],\"histogram\":[{\"marker\":{\"pattern\":{\"fillmode\":\"overlay\",\"size\":10,\"solidity\":0.2}},\"type\":\"histogram\"}],\"scattergl\":[{\"type\":\"scattergl\",\"marker\":{\"colorbar\":{\"outlinewidth\":0,\"ticks\":\"\"}}}],\"scatter3d\":[{\"type\":\"scatter3d\",\"line\":{\"colorbar\":{\"outlinewidth\":0,\"ticks\":\"\"}},\"marker\":{\"colorbar\":{\"outlinewidth\":0,\"ticks\":\"\"}}}],\"scattermapbox\":[{\"type\":\"scattermapbox\",\"marker\":{\"colorbar\":{\"outlinewidth\":0,\"ticks\":\"\"}}}],\"scatterternary\":[{\"type\":\"scatterternary\",\"marker\":{\"colorbar\":{\"outlinewidth\":0,\"ticks\":\"\"}}}],\"scattercarpet\":[{\"type\":\"scattercarpet\",\"marker\":{\"colorbar\":{\"outlinewidth\":0,\"ticks\":\"\"}}}],\"carpet\":[{\"aaxis\":{\"endlinecolor\":\"#2a3f5f\",\"gridcolor\":\"white\",\"linecolor\":\"white\",\"minorgridcolor\":\"white\",\"startlinecolor\":\"#2a3f5f\"},\"baxis\":{\"endlinecolor\":\"#2a3f5f\",\"gridcolor\":\"white\",\"linecolor\":\"white\",\"minorgridcolor\":\"white\",\"startlinecolor\":\"#2a3f5f\"},\"type\":\"carpet\"}],\"table\":[{\"cells\":{\"fill\":{\"color\":\"#EBF0F8\"},\"line\":{\"color\":\"white\"}},\"header\":{\"fill\":{\"color\":\"#C8D4E3\"},\"line\":{\"color\":\"white\"}},\"type\":\"table\"}],\"barpolar\":[{\"marker\":{\"line\":{\"color\":\"#E5ECF6\",\"width\":0.5},\"pattern\":{\"fillmode\":\"overlay\",\"size\":10,\"solidity\":0.2}},\"type\":\"barpolar\"}],\"pie\":[{\"automargin\":true,\"type\":\"pie\"}]},\"layout\":{\"autotypenumbers\":\"strict\",\"colorway\":[\"#636efa\",\"#EF553B\",\"#00cc96\",\"#ab63fa\",\"#FFA15A\",\"#19d3f3\",\"#FF6692\",\"#B6E880\",\"#FF97FF\",\"#FECB52\"],\"font\":{\"color\":\"#2a3f5f\"},\"hovermode\":\"closest\",\"hoverlabel\":{\"align\":\"left\"},\"paper_bgcolor\":\"white\",\"plot_bgcolor\":\"#E5ECF6\",\"polar\":{\"bgcolor\":\"#E5ECF6\",\"angularaxis\":{\"gridcolor\":\"white\",\"linecolor\":\"white\",\"ticks\":\"\"},\"radialaxis\":{\"gridcolor\":\"white\",\"linecolor\":\"white\",\"ticks\":\"\"}},\"ternary\":{\"bgcolor\":\"#E5ECF6\",\"aaxis\":{\"gridcolor\":\"white\",\"linecolor\":\"white\",\"ticks\":\"\"},\"baxis\":{\"gridcolor\":\"white\",\"linecolor\":\"white\",\"ticks\":\"\"},\"caxis\":{\"gridcolor\":\"white\",\"linecolor\":\"white\",\"ticks\":\"\"}},\"coloraxis\":{\"colorbar\":{\"outlinewidth\":0,\"ticks\":\"\"}},\"colorscale\":{\"sequential\":[[0.0,\"#0d0887\"],[0.1111111111111111,\"#46039f\"],[0.2222222222222222,\"#7201a8\"],[0.3333333333333333,\"#9c179e\"],[0.4444444444444444,\"#bd3786\"],[0.5555555555555556,\"#d8576b\"],[0.6666666666666666,\"#ed7953\"],[0.7777777777777778,\"#fb9f3a\"],[0.8888888888888888,\"#fdca26\"],[1.0,\"#f0f921\"]],\"sequentialminus\":[[0.0,\"#0d0887\"],[0.1111111111111111,\"#46039f\"],[0.2222222222222222,\"#7201a8\"],[0.3333333333333333,\"#9c179e\"],[0.4444444444444444,\"#bd3786\"],[0.5555555555555556,\"#d8576b\"],[0.6666666666666666,\"#ed7953\"],[0.7777777777777778,\"#fb9f3a\"],[0.8888888888888888,\"#fdca26\"],[1.0,\"#f0f921\"]],\"diverging\":[[0,\"#8e0152\"],[0.1,\"#c51b7d\"],[0.2,\"#de77ae\"],[0.3,\"#f1b6da\"],[0.4,\"#fde0ef\"],[0.5,\"#f7f7f7\"],[0.6,\"#e6f5d0\"],[0.7,\"#b8e186\"],[0.8,\"#7fbc41\"],[0.9,\"#4d9221\"],[1,\"#276419\"]]},\"xaxis\":{\"gridcolor\":\"white\",\"linecolor\":\"white\",\"ticks\":\"\",\"title\":{\"standoff\":15},\"zerolinecolor\":\"white\",\"automargin\":true,\"zerolinewidth\":2},\"yaxis\":{\"gridcolor\":\"white\",\"linecolor\":\"white\",\"ticks\":\"\",\"title\":{\"standoff\":15},\"zerolinecolor\":\"white\",\"automargin\":true,\"zerolinewidth\":2},\"scene\":{\"xaxis\":{\"backgroundcolor\":\"#E5ECF6\",\"gridcolor\":\"white\",\"linecolor\":\"white\",\"showbackground\":true,\"ticks\":\"\",\"zerolinecolor\":\"white\",\"gridwidth\":2},\"yaxis\":{\"backgroundcolor\":\"#E5ECF6\",\"gridcolor\":\"white\",\"linecolor\":\"white\",\"showbackground\":true,\"ticks\":\"\",\"zerolinecolor\":\"white\",\"gridwidth\":2},\"zaxis\":{\"backgroundcolor\":\"#E5ECF6\",\"gridcolor\":\"white\",\"linecolor\":\"white\",\"showbackground\":true,\"ticks\":\"\",\"zerolinecolor\":\"white\",\"gridwidth\":2}},\"shapedefaults\":{\"line\":{\"color\":\"#2a3f5f\"}},\"annotationdefaults\":{\"arrowcolor\":\"#2a3f5f\",\"arrowhead\":0,\"arrowwidth\":1},\"geo\":{\"bgcolor\":\"white\",\"landcolor\":\"#E5ECF6\",\"subunitcolor\":\"white\",\"showland\":true,\"showlakes\":true,\"lakecolor\":\"white\"},\"title\":{\"x\":0.05},\"mapbox\":{\"style\":\"light\"}}},\"xaxis\":{\"anchor\":\"y\",\"domain\":[0.0,1.0]},\"yaxis\":{\"anchor\":\"x\",\"domain\":[0.0,1.0]},\"margin\":{\"t\":60},\"coloraxis\":{\"showscale\":false}},                        {\"responsive\": true}                    ).then(function(){\n",
       "                            \n",
       "var gd = document.getElementById('810310be-e501-422d-9a75-070116d382f3');\n",
       "var x = new MutationObserver(function (mutations, observer) {{\n",
       "        var display = window.getComputedStyle(gd).display;\n",
       "        if (!display || display === 'none') {{\n",
       "            console.log([gd, 'removed!']);\n",
       "            Plotly.purge(gd);\n",
       "            observer.disconnect();\n",
       "        }}\n",
       "}});\n",
       "\n",
       "// Listen for the removal of the full notebook cells\n",
       "var notebookContainer = gd.closest('#notebook-container');\n",
       "if (notebookContainer) {{\n",
       "    x.observe(notebookContainer, {childList: true});\n",
       "}}\n",
       "\n",
       "// Listen for the clearing of the current output cell\n",
       "var outputEl = gd.closest('.output');\n",
       "if (outputEl) {{\n",
       "    x.observe(outputEl, {childList: true});\n",
       "}}\n",
       "\n",
       "                        })                };                });            </script>        </div>"
      ]
     },
     "metadata": {},
     "output_type": "display_data"
    }
   ],
   "source": [
    "import plotly.express as px\n",
    "fig = px.imshow(output_img[2], color_continuous_scale='Viridis')\n",
    "fig.update_layout(coloraxis_showscale=False)\n",
    "fig.show()"
   ]
  },
  {
   "cell_type": "code",
   "execution_count": 23,
   "id": "5e03a139",
   "metadata": {},
   "outputs": [],
   "source": [
    "import torch.nn.functional as F"
   ]
  },
  {
   "cell_type": "code",
   "execution_count": null,
   "id": "6bc4d619",
   "metadata": {},
   "outputs": [],
   "source": []
  }
 ],
 "metadata": {
  "kernelspec": {
   "display_name": "Python 3 (ipykernel)",
   "language": "python",
   "name": "python3"
  },
  "language_info": {
   "codemirror_mode": {
    "name": "ipython",
    "version": 3
   },
   "file_extension": ".py",
   "mimetype": "text/x-python",
   "name": "python",
   "nbconvert_exporter": "python",
   "pygments_lexer": "ipython3",
   "version": "3.11.5"
  }
 },
 "nbformat": 4,
 "nbformat_minor": 5
}
